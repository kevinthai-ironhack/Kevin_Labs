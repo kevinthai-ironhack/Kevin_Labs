{
 "cells": [
  {
   "cell_type": "markdown",
   "id": "e6f00174",
   "metadata": {},
   "source": [
    "### Counting Sheeps"
   ]
  },
  {
   "cell_type": "code",
   "execution_count": 3,
   "id": "4b9f7541",
   "metadata": {},
   "outputs": [],
   "source": [
    "sheeps = [True,  True,  True,  False,\n",
    "  True,  True,  True,  True ,\n",
    "  True,  False, True,  False,\n",
    "  True,  False, False, True ,\n",
    "  True,  True,  True,  True ,\n",
    "  False, False, True,  True]"
   ]
  },
  {
   "cell_type": "code",
   "execution_count": 4,
   "id": "f1ab7cb7",
   "metadata": {},
   "outputs": [
    {
     "name": "stdout",
     "output_type": "stream",
     "text": [
      "17\n"
     ]
    }
   ],
   "source": [
    "count=0\n",
    "for sheep in sheeps:\n",
    "    if sheep == True:\n",
    "        count += 1\n",
    "print(count)"
   ]
  },
  {
   "cell_type": "markdown",
   "id": "f4194072",
   "metadata": {},
   "source": [
    "### Removing Elements"
   ]
  },
  {
   "cell_type": "code",
   "execution_count": 27,
   "id": "a2b0d6d9",
   "metadata": {},
   "outputs": [],
   "source": [
    "# Take an array and remove every second element from the array.\n",
    "# Always keep the first element and start removing with the next element."
   ]
  },
  {
   "cell_type": "code",
   "execution_count": 53,
   "id": "77c738ff",
   "metadata": {},
   "outputs": [],
   "source": [
    "array = [\"Keep\", \"Remove\", \"Keep\", \"Remove\", \"Keep\"]"
   ]
  },
  {
   "cell_type": "code",
   "execution_count": 54,
   "id": "43646d26",
   "metadata": {},
   "outputs": [
    {
     "data": {
      "text/plain": [
       "['Keep', 'Remove', 'Keep', 'Remove', 'Keep']"
      ]
     },
     "execution_count": 54,
     "metadata": {},
     "output_type": "execute_result"
    }
   ],
   "source": [
    "array[::1]"
   ]
  },
  {
   "cell_type": "markdown",
   "id": "58fdf739",
   "metadata": {},
   "source": [
    "### Convert number to reversed array of digits\n"
   ]
  },
  {
   "cell_type": "code",
   "execution_count": 56,
   "id": "9f0b5e95",
   "metadata": {},
   "outputs": [],
   "source": [
    "#Given a random non-negative number, you have to return the digits of this number within an array in reverse order."
   ]
  },
  {
   "cell_type": "code",
   "execution_count": 112,
   "id": "a1dc9710",
   "metadata": {},
   "outputs": [],
   "source": [
    "import random"
   ]
  },
  {
   "cell_type": "code",
   "execution_count": 113,
   "id": "5dc71f80",
   "metadata": {},
   "outputs": [
    {
     "data": {
      "text/plain": [
       "61944"
      ]
     },
     "execution_count": 113,
     "metadata": {},
     "output_type": "execute_result"
    }
   ],
   "source": [
    "randomnumber = random.randint(0,100000)\n",
    "randomnumber"
   ]
  },
  {
   "cell_type": "code",
   "execution_count": 114,
   "id": "cde153e1",
   "metadata": {},
   "outputs": [
    {
     "data": {
      "text/plain": [
       "[6, 1, 9, 4, 4]"
      ]
     },
     "execution_count": 114,
     "metadata": {},
     "output_type": "execute_result"
    }
   ],
   "source": [
    "list = [int(i) for i in str(randomnumber)]\n",
    "list"
   ]
  },
  {
   "cell_type": "code",
   "execution_count": 115,
   "id": "4f8bae64",
   "metadata": {},
   "outputs": [
    {
     "data": {
      "text/plain": [
       "[4, 4, 9, 1, 6]"
      ]
     },
     "execution_count": 115,
     "metadata": {},
     "output_type": "execute_result"
    }
   ],
   "source": [
    "list[::-1]"
   ]
  },
  {
   "cell_type": "markdown",
   "id": "a1371fa5",
   "metadata": {},
   "source": [
    "### Square every digit"
   ]
  },
  {
   "cell_type": "code",
   "execution_count": 128,
   "id": "08af6790",
   "metadata": {},
   "outputs": [],
   "source": [
    "num = 9119"
   ]
  },
  {
   "cell_type": "code",
   "execution_count": 129,
   "id": "c5d39d2d",
   "metadata": {},
   "outputs": [
    {
     "data": {
      "text/plain": [
       "[9, 1, 1, 9]"
      ]
     },
     "execution_count": 129,
     "metadata": {},
     "output_type": "execute_result"
    }
   ],
   "source": [
    "list = [int(i) for i in str(num)]\n",
    "list"
   ]
  },
  {
   "cell_type": "code",
   "execution_count": 132,
   "id": "1cc62a30",
   "metadata": {},
   "outputs": [
    {
     "data": {
      "text/plain": [
       "[81, 1, 1, 81]"
      ]
     },
     "execution_count": 132,
     "metadata": {},
     "output_type": "execute_result"
    }
   ],
   "source": [
    "new_list = []\n",
    "for i in list:\n",
    "    j = i*i\n",
    "    new_list.append(j)\n",
    "new_list"
   ]
  },
  {
   "cell_type": "code",
   "execution_count": 136,
   "id": "f0da8e52",
   "metadata": {},
   "outputs": [
    {
     "data": {
      "text/plain": [
       "811181"
      ]
     },
     "execution_count": 136,
     "metadata": {},
     "output_type": "execute_result"
    }
   ],
   "source": [
    "new_integer = int(\"\".join([str(i) for i in new_list]))\n",
    "new_integer"
   ]
  },
  {
   "cell_type": "code",
   "execution_count": 139,
   "id": "b918b078",
   "metadata": {},
   "outputs": [],
   "source": [
    "# summarizing:\n",
    "def square_digits(num):\n",
    "    list = [int(i) for i in str(num)]\n",
    "    new_list = []\n",
    "    for i in list:\n",
    "        j = i*i\n",
    "        new_list.append(j)\n",
    "    new_integer = int(\"\".join([str(i) for i in new_list]))\n",
    "    return new_integer "
   ]
  },
  {
   "cell_type": "code",
   "execution_count": 140,
   "id": "30949a41",
   "metadata": {},
   "outputs": [
    {
     "data": {
      "text/plain": [
       "811181"
      ]
     },
     "execution_count": 140,
     "metadata": {},
     "output_type": "execute_result"
    }
   ],
   "source": [
    "square_digits(9119)"
   ]
  },
  {
   "cell_type": "markdown",
   "id": "a29373fb",
   "metadata": {},
   "source": [
    "### Method For Counting Total Occurence Of Specific Digits\n"
   ]
  },
  {
   "cell_type": "code",
   "execution_count": 208,
   "id": "2909f3ab",
   "metadata": {},
   "outputs": [],
   "source": [
    "integers_list = [-18, -31, 81, -19, 111, -888]\n",
    "digits_list = [1, 8, 4]\n",
    "#l.count_spec_digits(integers_list, digits_list) == [(1, 7), (8, 5), (4, 0)]"
   ]
  },
  {
   "cell_type": "code",
   "execution_count": 221,
   "id": "89038d78",
   "metadata": {},
   "outputs": [
    {
     "data": {
      "text/plain": [
       "[18, 31, 81, 19, 111, 888]"
      ]
     },
     "execution_count": 221,
     "metadata": {},
     "output_type": "execute_result"
    }
   ],
   "source": [
    "new_abs_integers_list = []\n",
    "for i in integers_list:\n",
    "    j = abs(i)\n",
    "    new_abs_integers_list.append(j)\n",
    "new_abs_integers_list"
   ]
  },
  {
   "cell_type": "code",
   "execution_count": 222,
   "id": "af90c52d",
   "metadata": {},
   "outputs": [
    {
     "data": {
      "text/plain": [
       "[18, 31, 81, 19, 111, 888]"
      ]
     },
     "execution_count": 222,
     "metadata": {},
     "output_type": "execute_result"
    }
   ],
   "source": [
    "new_abs_integers_list# = [ abs(i) for i in integers_list ]\n",
    "new_abs_integers_list"
   ]
  },
  {
   "cell_type": "code",
   "execution_count": 223,
   "id": "49c4b044",
   "metadata": {},
   "outputs": [
    {
     "data": {
      "text/plain": [
       "'18318119111888'"
      ]
     },
     "execution_count": 223,
     "metadata": {},
     "output_type": "execute_result"
    }
   ],
   "source": [
    "integers_list_string = \"\".join([str(i) for i in new_abs_integers_list])\n",
    "integers_list_string"
   ]
  },
  {
   "cell_type": "code",
   "execution_count": 224,
   "id": "d9c9b2c6",
   "metadata": {},
   "outputs": [
    {
     "name": "stdout",
     "output_type": "stream",
     "text": [
      "[(1, 7), (8, 5), (4, 0)]\n"
     ]
    }
   ],
   "source": [
    "output = []\n",
    "for i in digits_list:\n",
    "    tup = (i,integers_list_string.count(str(i)))\n",
    "    output.append(tup)\n",
    "print(output)"
   ]
  }
 ],
 "metadata": {
  "kernelspec": {
   "display_name": "Python 3 (ipykernel)",
   "language": "python",
   "name": "python3"
  },
  "language_info": {
   "codemirror_mode": {
    "name": "ipython",
    "version": 3
   },
   "file_extension": ".py",
   "mimetype": "text/x-python",
   "name": "python",
   "nbconvert_exporter": "python",
   "pygments_lexer": "ipython3",
   "version": "3.9.13"
  }
 },
 "nbformat": 4,
 "nbformat_minor": 5
}
