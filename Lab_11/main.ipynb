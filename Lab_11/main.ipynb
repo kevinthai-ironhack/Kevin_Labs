{
 "cells": [
  {
   "cell_type": "markdown",
   "id": "1b71a133",
   "metadata": {},
   "source": [
    "### Remove All The Marked Elements of a List"
   ]
  },
  {
   "cell_type": "code",
   "execution_count": 13,
   "id": "e8cdbded",
   "metadata": {},
   "outputs": [],
   "source": [
    "# Define a method/function that removes from a given array of integers all the values contained in a second array.\n",
    "# [1, 1, 2, 3, 1, 2, 3, 4], [1, 3] -> [2, 2, 4]"
   ]
  },
  {
   "cell_type": "code",
   "execution_count": 36,
   "id": "3c5eb3ba",
   "metadata": {},
   "outputs": [],
   "source": [
    "array1 = [1, 1, 2, 3, 1, 2, 3, 4]\n",
    "array2 = [1, 3] "
   ]
  },
  {
   "cell_type": "code",
   "execution_count": 37,
   "id": "6cac4a95",
   "metadata": {},
   "outputs": [
    {
     "data": {
      "text/plain": [
       "[2, 2, 4]"
      ]
     },
     "execution_count": 37,
     "metadata": {},
     "output_type": "execute_result"
    }
   ],
   "source": [
    "new_array =[]\n",
    "for i in array1:\n",
    "    if i not in array2:\n",
    "        new_array.append(i)\n",
    "new_array"
   ]
  },
  {
   "cell_type": "code",
   "execution_count": 38,
   "id": "78416ae6",
   "metadata": {},
   "outputs": [],
   "source": [
    "#inputs to codewars:\n",
    "class List:\n",
    "    def remove_(self, integer_list, values_list):\n",
    "        new_array = []\n",
    "        for i in integer_list:\n",
    "            if i not in values_list:\n",
    "                new_array.append(i)\n",
    "        return new_array"
   ]
  },
  {
   "cell_type": "code",
   "execution_count": 39,
   "id": "3d3f6061",
   "metadata": {},
   "outputs": [],
   "source": [
    "# optimized:\n",
    "# return [i for i in integer_list if i not in values_list]"
   ]
  },
  {
   "cell_type": "markdown",
   "id": "46b8e713",
   "metadata": {},
   "source": [
    "### Method For Counting Total Occurence Of Specific Digits - DONE IN LAB 10 SAME CASE"
   ]
  },
  {
   "cell_type": "markdown",
   "id": "13c3bf75",
   "metadata": {},
   "source": [
    "### Ordered Count of Characters"
   ]
  },
  {
   "cell_type": "code",
   "execution_count": 40,
   "id": "b1c99c39",
   "metadata": {},
   "outputs": [],
   "source": [
    "# Count the number of occurrences of each character and return it as a (list of tuples) in order of appearance. \n",
    "# For empty output return (an empty list).\n",
    "# ordered_count(\"abracadabra\") == [('a', 5), ('b', 2), ('r', 2), ('c', 1), ('d', 1)]"
   ]
  },
  {
   "cell_type": "code",
   "execution_count": 83,
   "id": "cf1e17d4",
   "metadata": {},
   "outputs": [],
   "source": [
    "string = \"abracadabra\""
   ]
  },
  {
   "cell_type": "code",
   "execution_count": 84,
   "id": "11d6d6ce",
   "metadata": {},
   "outputs": [
    {
     "data": {
      "text/plain": [
       "['a', 'b', 'r', 'c', 'd']"
      ]
     },
     "execution_count": 84,
     "metadata": {},
     "output_type": "execute_result"
    }
   ],
   "source": [
    "char_seen = []\n",
    "for char in string:\n",
    "    if char not in char_seen:\n",
    "        char_seen.append(char)\n",
    "char_seen"
   ]
  },
  {
   "cell_type": "code",
   "execution_count": 85,
   "id": "8ab9777b",
   "metadata": {},
   "outputs": [
    {
     "data": {
      "text/plain": [
       "[('a', 5), ('b', 2), ('r', 2), ('c', 1), ('d', 1)]"
      ]
     },
     "execution_count": 85,
     "metadata": {},
     "output_type": "execute_result"
    }
   ],
   "source": [
    "output = []\n",
    "for i in char_seen:\n",
    "    tup = (i,string.count(i))\n",
    "    output.append(tup)\n",
    "output"
   ]
  },
  {
   "cell_type": "code",
   "execution_count": 86,
   "id": "a0c4847f",
   "metadata": {},
   "outputs": [],
   "source": [
    "#output for codewars:\n",
    "def ordered_count(inp):\n",
    "    char_seen = []\n",
    "    for char in inp:\n",
    "        if char not in char_seen:\n",
    "            char_seen.append(char)\n",
    "    output = []\n",
    "    for i in char_seen:\n",
    "        tup = (i,inp.count(i))\n",
    "        output.append(tup)\n",
    "    return output"
   ]
  },
  {
   "cell_type": "code",
   "execution_count": 87,
   "id": "862ef7e7",
   "metadata": {},
   "outputs": [
    {
     "data": {
      "text/plain": [
       "[('a', 5), ('b', 2), ('r', 2), ('c', 1), ('d', 1)]"
      ]
     },
     "execution_count": 87,
     "metadata": {},
     "output_type": "execute_result"
    }
   ],
   "source": [
    "ordered_count(\"abracadabra\")"
   ]
  },
  {
   "cell_type": "code",
   "execution_count": null,
   "id": "c8ba15c0",
   "metadata": {},
   "outputs": [],
   "source": []
  }
 ],
 "metadata": {
  "kernelspec": {
   "display_name": "Python 3 (ipykernel)",
   "language": "python",
   "name": "python3"
  },
  "language_info": {
   "codemirror_mode": {
    "name": "ipython",
    "version": 3
   },
   "file_extension": ".py",
   "mimetype": "text/x-python",
   "name": "python",
   "nbconvert_exporter": "python",
   "pygments_lexer": "ipython3",
   "version": "3.9.13"
  }
 },
 "nbformat": 4,
 "nbformat_minor": 5
}
