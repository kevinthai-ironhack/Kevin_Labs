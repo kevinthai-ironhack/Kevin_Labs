{
 "cells": [
  {
   "cell_type": "markdown",
   "id": "79d7f796",
   "metadata": {},
   "source": [
    "### Tasks\n",
    "Part 1: Upload the data\n",
    "\n",
    "Part 2: Analyze your data and create a plan for data preparation\n",
    "\n",
    "Part 3: Data cleansing (missing values, outliers, duplicates, data consistently)\n",
    "\n",
    "Part 4: Encode categorical data\n",
    "\n",
    "Part 5: Upload the deliverables to GitHub"
   ]
  },
  {
   "cell_type": "code",
   "execution_count": 111,
   "id": "f9b49358",
   "metadata": {},
   "outputs": [],
   "source": [
    "import pandas as pd\n",
    "import numpy as np\n",
    "df = pd.read_csv('data_cleaning.csv',low_memory=False)"
   ]
  },
  {
   "cell_type": "markdown",
   "id": "96b08dd0",
   "metadata": {},
   "source": [
    "### Data Inspection"
   ]
  },
  {
   "cell_type": "code",
   "execution_count": 112,
   "id": "121cb563",
   "metadata": {},
   "outputs": [
    {
     "data": {
      "text/plain": [
       "(30, 7)"
      ]
     },
     "execution_count": 112,
     "metadata": {},
     "output_type": "execute_result"
    }
   ],
   "source": [
    "df.shape"
   ]
  },
  {
   "cell_type": "code",
   "execution_count": 113,
   "id": "6285b744",
   "metadata": {},
   "outputs": [
    {
     "name": "stdout",
     "output_type": "stream",
     "text": [
      "<class 'pandas.core.frame.DataFrame'>\n",
      "RangeIndex: 30 entries, 0 to 29\n",
      "Data columns (total 7 columns):\n",
      " #   Column         Non-Null Count  Dtype  \n",
      "---  ------         --------------  -----  \n",
      " 0   TransactionID  30 non-null     int64  \n",
      " 1   ClientID       30 non-null     int64  \n",
      " 2   BirthYear      28 non-null     float64\n",
      " 3   Amount         30 non-null     int64  \n",
      " 4   Profession     28 non-null     object \n",
      " 5   Department     30 non-null     int64  \n",
      " 6   Risk           30 non-null     object \n",
      "dtypes: float64(1), int64(4), object(2)\n",
      "memory usage: 1.8+ KB\n"
     ]
    }
   ],
   "source": [
    "# description of index, entries, columns, data types, memory info\n",
    "# conclusion: some null data, birthyear type is float (weird)\n",
    "df.info() "
   ]
  },
  {
   "cell_type": "code",
   "execution_count": 114,
   "id": "2a53a943",
   "metadata": {},
   "outputs": [
    {
     "data": {
      "text/html": [
       "<div>\n",
       "<style scoped>\n",
       "    .dataframe tbody tr th:only-of-type {\n",
       "        vertical-align: middle;\n",
       "    }\n",
       "\n",
       "    .dataframe tbody tr th {\n",
       "        vertical-align: top;\n",
       "    }\n",
       "\n",
       "    .dataframe thead th {\n",
       "        text-align: right;\n",
       "    }\n",
       "</style>\n",
       "<table border=\"1\" class=\"dataframe\">\n",
       "  <thead>\n",
       "    <tr style=\"text-align: right;\">\n",
       "      <th></th>\n",
       "      <th>TransactionID</th>\n",
       "      <th>ClientID</th>\n",
       "      <th>BirthYear</th>\n",
       "      <th>Amount</th>\n",
       "      <th>Profession</th>\n",
       "      <th>Department</th>\n",
       "      <th>Risk</th>\n",
       "    </tr>\n",
       "  </thead>\n",
       "  <tbody>\n",
       "    <tr>\n",
       "      <th>0</th>\n",
       "      <td>4</td>\n",
       "      <td>34985</td>\n",
       "      <td>1923.0</td>\n",
       "      <td>5670</td>\n",
       "      <td>manager</td>\n",
       "      <td>78</td>\n",
       "      <td>Low</td>\n",
       "    </tr>\n",
       "    <tr>\n",
       "      <th>1</th>\n",
       "      <td>16</td>\n",
       "      <td>34997</td>\n",
       "      <td>1923.0</td>\n",
       "      <td>2399090</td>\n",
       "      <td>developer</td>\n",
       "      <td>78</td>\n",
       "      <td>High</td>\n",
       "    </tr>\n",
       "    <tr>\n",
       "      <th>2</th>\n",
       "      <td>25</td>\n",
       "      <td>35006</td>\n",
       "      <td>1923.0</td>\n",
       "      <td>33050</td>\n",
       "      <td>HR</td>\n",
       "      <td>78</td>\n",
       "      <td>High</td>\n",
       "    </tr>\n",
       "    <tr>\n",
       "      <th>3</th>\n",
       "      <td>12</td>\n",
       "      <td>34993</td>\n",
       "      <td>1939.0</td>\n",
       "      <td>23430</td>\n",
       "      <td>professor</td>\n",
       "      <td>78</td>\n",
       "      <td>Low</td>\n",
       "    </tr>\n",
       "    <tr>\n",
       "      <th>4</th>\n",
       "      <td>21</td>\n",
       "      <td>35002</td>\n",
       "      <td>1939.0</td>\n",
       "      <td>16770</td>\n",
       "      <td>manager</td>\n",
       "      <td>78</td>\n",
       "      <td>Low</td>\n",
       "    </tr>\n",
       "    <tr>\n",
       "      <th>5</th>\n",
       "      <td>11</td>\n",
       "      <td>34992</td>\n",
       "      <td>1944.0</td>\n",
       "      <td>21210</td>\n",
       "      <td>researcher</td>\n",
       "      <td>78</td>\n",
       "      <td>Medium</td>\n",
       "    </tr>\n",
       "    <tr>\n",
       "      <th>6</th>\n",
       "      <td>20</td>\n",
       "      <td>35001</td>\n",
       "      <td>1944.0</td>\n",
       "      <td>14550</td>\n",
       "      <td>student</td>\n",
       "      <td>78</td>\n",
       "      <td>Medium</td>\n",
       "    </tr>\n",
       "    <tr>\n",
       "      <th>7</th>\n",
       "      <td>3</td>\n",
       "      <td>34984</td>\n",
       "      <td>1945.0</td>\n",
       "      <td>3450</td>\n",
       "      <td>student</td>\n",
       "      <td>78</td>\n",
       "      <td>Medium</td>\n",
       "    </tr>\n",
       "    <tr>\n",
       "      <th>8</th>\n",
       "      <td>19</td>\n",
       "      <td>35000</td>\n",
       "      <td>1949.0</td>\n",
       "      <td>12330</td>\n",
       "      <td>barmen</td>\n",
       "      <td>78</td>\n",
       "      <td>High</td>\n",
       "    </tr>\n",
       "    <tr>\n",
       "      <th>9</th>\n",
       "      <td>9</td>\n",
       "      <td>34990</td>\n",
       "      <td>1953.0</td>\n",
       "      <td>16770</td>\n",
       "      <td>Manager</td>\n",
       "      <td>78</td>\n",
       "      <td>Medium</td>\n",
       "    </tr>\n",
       "  </tbody>\n",
       "</table>\n",
       "</div>"
      ],
      "text/plain": [
       "   TransactionID  ClientID  BirthYear   Amount  Profession  Department    Risk\n",
       "0              4     34985     1923.0     5670     manager          78     Low\n",
       "1             16     34997     1923.0  2399090   developer          78    High\n",
       "2             25     35006     1923.0    33050          HR          78    High\n",
       "3             12     34993     1939.0    23430   professor          78     Low\n",
       "4             21     35002     1939.0    16770     manager          78     Low\n",
       "5             11     34992     1944.0    21210  researcher          78  Medium\n",
       "6             20     35001     1944.0    14550     student          78  Medium\n",
       "7              3     34984     1945.0     3450     student          78  Medium\n",
       "8             19     35000     1949.0    12330      barmen          78    High\n",
       "9              9     34990     1953.0    16770     Manager          78  Medium"
      ]
     },
     "execution_count": 114,
     "metadata": {},
     "output_type": "execute_result"
    }
   ],
   "source": [
    "df.head(10)\n",
    "# conclusion: same department, case sensitivity in Profesion and outliers (amount)"
   ]
  },
  {
   "cell_type": "code",
   "execution_count": 115,
   "id": "1f90f1af",
   "metadata": {},
   "outputs": [
    {
     "data": {
      "text/plain": [
       "Index(['TransactionID', 'ClientID', 'BirthYear', 'Amount', 'Profession',\n",
       "       'Department', 'Risk'],\n",
       "      dtype='object')"
      ]
     },
     "execution_count": 115,
     "metadata": {},
     "output_type": "execute_result"
    }
   ],
   "source": [
    "df.columns"
   ]
  },
  {
   "cell_type": "code",
   "execution_count": 116,
   "id": "5f1beeff",
   "metadata": {},
   "outputs": [
    {
     "data": {
      "text/plain": [
       "array(['manager', 'developer', 'HR', 'professor', 'researcher', 'student',\n",
       "       'barmen', 'Manager', 'bdm', nan, 'hr', 'etudient', 'BDM',\n",
       "       'Hairdresser', 'Student', 'Driver', 'sailer'], dtype=object)"
      ]
     },
     "execution_count": 116,
     "metadata": {},
     "output_type": "execute_result"
    }
   ],
   "source": [
    "# show unique values of a column\n",
    "# Need harmonization within the labels:\n",
    "# 'manager', 'Manager'\n",
    "# 'student','edudient','Student'\n",
    "# 'bdm','BDM'\n",
    "df[\"Profession\"].unique()"
   ]
  },
  {
   "cell_type": "code",
   "execution_count": 117,
   "id": "a42d006f",
   "metadata": {},
   "outputs": [
    {
     "data": {
      "text/plain": [
       "array(['Low', 'High', 'Medium'], dtype=object)"
      ]
     },
     "execution_count": 117,
     "metadata": {},
     "output_type": "execute_result"
    }
   ],
   "source": [
    "df[\"Risk\"].unique()\n",
    "# good quality"
   ]
  },
  {
   "cell_type": "markdown",
   "id": "937d44e9",
   "metadata": {},
   "source": [
    "### CLEANING ACTION PLAN \n",
    "\n",
    "1. Deal with NaN values\n",
    "2. Formatting BirthYear type into integer\n",
    "3. Clean Profession labels \n",
    "4. Check consistency & duplicates\n",
    "5. Remove outliers"
   ]
  },
  {
   "cell_type": "code",
   "execution_count": 118,
   "id": "0ed2477d",
   "metadata": {},
   "outputs": [
    {
     "data": {
      "text/html": [
       "<div>\n",
       "<style scoped>\n",
       "    .dataframe tbody tr th:only-of-type {\n",
       "        vertical-align: middle;\n",
       "    }\n",
       "\n",
       "    .dataframe tbody tr th {\n",
       "        vertical-align: top;\n",
       "    }\n",
       "\n",
       "    .dataframe thead th {\n",
       "        text-align: right;\n",
       "    }\n",
       "</style>\n",
       "<table border=\"1\" class=\"dataframe\">\n",
       "  <thead>\n",
       "    <tr style=\"text-align: right;\">\n",
       "      <th></th>\n",
       "      <th>TransactionID</th>\n",
       "      <th>ClientID</th>\n",
       "      <th>BirthYear</th>\n",
       "      <th>Amount</th>\n",
       "      <th>Profession</th>\n",
       "      <th>Department</th>\n",
       "      <th>Risk</th>\n",
       "    </tr>\n",
       "  </thead>\n",
       "  <tbody>\n",
       "    <tr>\n",
       "      <th>15</th>\n",
       "      <td>28</td>\n",
       "      <td>35008</td>\n",
       "      <td>1967.0</td>\n",
       "      <td>46370</td>\n",
       "      <td>NaN</td>\n",
       "      <td>78</td>\n",
       "      <td>High</td>\n",
       "    </tr>\n",
       "    <tr>\n",
       "      <th>16</th>\n",
       "      <td>29</td>\n",
       "      <td>35008</td>\n",
       "      <td>1976.0</td>\n",
       "      <td>50810</td>\n",
       "      <td>NaN</td>\n",
       "      <td>78</td>\n",
       "      <td>Medium</td>\n",
       "    </tr>\n",
       "    <tr>\n",
       "      <th>28</th>\n",
       "      <td>22</td>\n",
       "      <td>34987</td>\n",
       "      <td>NaN</td>\n",
       "      <td>18990</td>\n",
       "      <td>sailer</td>\n",
       "      <td>78</td>\n",
       "      <td>High</td>\n",
       "    </tr>\n",
       "    <tr>\n",
       "      <th>29</th>\n",
       "      <td>7</td>\n",
       "      <td>34988</td>\n",
       "      <td>NaN</td>\n",
       "      <td>12330</td>\n",
       "      <td>Manager</td>\n",
       "      <td>78</td>\n",
       "      <td>Medium</td>\n",
       "    </tr>\n",
       "  </tbody>\n",
       "</table>\n",
       "</div>"
      ],
      "text/plain": [
       "    TransactionID  ClientID  BirthYear  Amount Profession  Department    Risk\n",
       "15             28     35008     1967.0   46370        NaN          78    High\n",
       "16             29     35008     1976.0   50810        NaN          78  Medium\n",
       "28             22     34987        NaN   18990     sailer          78    High\n",
       "29              7     34988        NaN   12330    Manager          78  Medium"
      ]
     },
     "execution_count": 118,
     "metadata": {},
     "output_type": "execute_result"
    }
   ],
   "source": [
    "# Deal with NaN values\n",
    "null_displ = df[(df['BirthYear'].isnull()==True) | (df['Profession'].isnull()==True)]\n",
    "null_displ"
   ]
  },
  {
   "cell_type": "code",
   "execution_count": 119,
   "id": "41194165",
   "metadata": {},
   "outputs": [],
   "source": [
    "# Let's replace NaN year value by 0 and NaN profession value by unknown\n",
    "df['BirthYear'].fillna(0,inplace=True)\n",
    "df['Profession'].fillna('unknown',inplace=True)"
   ]
  },
  {
   "cell_type": "code",
   "execution_count": 120,
   "id": "31355f6d",
   "metadata": {},
   "outputs": [
    {
     "data": {
      "text/html": [
       "<div>\n",
       "<style scoped>\n",
       "    .dataframe tbody tr th:only-of-type {\n",
       "        vertical-align: middle;\n",
       "    }\n",
       "\n",
       "    .dataframe tbody tr th {\n",
       "        vertical-align: top;\n",
       "    }\n",
       "\n",
       "    .dataframe thead th {\n",
       "        text-align: right;\n",
       "    }\n",
       "</style>\n",
       "<table border=\"1\" class=\"dataframe\">\n",
       "  <thead>\n",
       "    <tr style=\"text-align: right;\">\n",
       "      <th></th>\n",
       "      <th>TransactionID</th>\n",
       "      <th>ClientID</th>\n",
       "      <th>BirthYear</th>\n",
       "      <th>Amount</th>\n",
       "      <th>Profession</th>\n",
       "      <th>Department</th>\n",
       "      <th>Risk</th>\n",
       "    </tr>\n",
       "  </thead>\n",
       "  <tbody>\n",
       "  </tbody>\n",
       "</table>\n",
       "</div>"
      ],
      "text/plain": [
       "Empty DataFrame\n",
       "Columns: [TransactionID, ClientID, BirthYear, Amount, Profession, Department, Risk]\n",
       "Index: []"
      ]
     },
     "execution_count": 120,
     "metadata": {},
     "output_type": "execute_result"
    }
   ],
   "source": [
    "null_displ = df[(df['BirthYear'].isnull()==True) | (df['Profession'].isnull()==True)]\n",
    "null_displ\n",
    "# no more null values left"
   ]
  },
  {
   "cell_type": "code",
   "execution_count": 121,
   "id": "5301088f",
   "metadata": {},
   "outputs": [
    {
     "data": {
      "text/plain": [
       "dtype('float64')"
      ]
     },
     "execution_count": 121,
     "metadata": {},
     "output_type": "execute_result"
    }
   ],
   "source": [
    "# 1. Formatting BirthYear type into integer\n",
    "df['BirthYear'].dtype"
   ]
  },
  {
   "cell_type": "code",
   "execution_count": 122,
   "id": "67db29db",
   "metadata": {},
   "outputs": [
    {
     "data": {
      "text/plain": [
       "dtype('int32')"
      ]
     },
     "execution_count": 122,
     "metadata": {},
     "output_type": "execute_result"
    }
   ],
   "source": [
    "df['BirthYear'] = df['BirthYear'].astype('int')\n",
    "df['BirthYear'].dtype"
   ]
  },
  {
   "cell_type": "code",
   "execution_count": 123,
   "id": "9702d557",
   "metadata": {},
   "outputs": [],
   "source": [
    "# Clean Profesion labels \n",
    "# 'manager', 'Manager'\n",
    "# 'student','etudient','Student'\n",
    "# 'bdm','BDM'"
   ]
  },
  {
   "cell_type": "code",
   "execution_count": 124,
   "id": "0c1482e2",
   "metadata": {},
   "outputs": [],
   "source": [
    "#lowering string to lowercase to deal with BDM bdm etc.\n",
    "df['Profession'] = df['Profession'].astype('str')\n",
    "df['Risk'] = df['Risk'].astype('str')\n",
    "df['Profession'] = df['Profession'].str.lower()\n",
    "df['Risk'] = df['Risk'].str.lower()"
   ]
  },
  {
   "cell_type": "code",
   "execution_count": 125,
   "id": "fe198f71",
   "metadata": {},
   "outputs": [
    {
     "data": {
      "text/plain": [
       "array(['manager', 'developer', 'hr', 'professor', 'researcher', 'student',\n",
       "       'barmen', 'bdm', 'unknown', 'etudient', 'hairdresser', 'driver',\n",
       "       'sailer'], dtype=object)"
      ]
     },
     "execution_count": 125,
     "metadata": {},
     "output_type": "execute_result"
    }
   ],
   "source": [
    "df['Profession'].unique()"
   ]
  },
  {
   "cell_type": "code",
   "execution_count": 132,
   "id": "03ac8ce2",
   "metadata": {},
   "outputs": [],
   "source": [
    "df['Profession'] = df['Profession'].replace('etudient','student')"
   ]
  },
  {
   "cell_type": "code",
   "execution_count": 133,
   "id": "9ae07d33",
   "metadata": {},
   "outputs": [
    {
     "data": {
      "text/plain": [
       "array(['manager', 'developer', 'hr', 'professor', 'researcher', 'student',\n",
       "       'barmen', 'bdm', 'unknown', 'hairdresser', 'driver', 'sailer'],\n",
       "      dtype=object)"
      ]
     },
     "execution_count": 133,
     "metadata": {},
     "output_type": "execute_result"
    }
   ],
   "source": [
    "df['Profession'].unique()"
   ]
  },
  {
   "cell_type": "code",
   "execution_count": 134,
   "id": "34e231fa",
   "metadata": {},
   "outputs": [],
   "source": [
    "# Check consistency & duplicates\n",
    "# tackling illegal workers\n",
    "# removing no birthyear individuals\n",
    "# removing duplicates"
   ]
  },
  {
   "cell_type": "code",
   "execution_count": 144,
   "id": "fb2f7b0c",
   "metadata": {},
   "outputs": [
    {
     "data": {
      "text/plain": [
       "Int64Index([26, 27, 28, 29], dtype='int64')"
      ]
     },
     "execution_count": 144,
     "metadata": {},
     "output_type": "execute_result"
    }
   ],
   "source": [
    "# Spot illegal workers and remove them LOL \n",
    "drop_rows = df[ (df['Profession'] != 'student') & (df['BirthYear'] > 2004) | (df['BirthYear']==0)].index\n",
    "drop_rows"
   ]
  },
  {
   "cell_type": "code",
   "execution_count": 145,
   "id": "9ef09252",
   "metadata": {},
   "outputs": [],
   "source": [
    "# HORS DE MA VUE\n",
    "df_filtered = df.drop(drop_rows, axis=0)"
   ]
  },
  {
   "cell_type": "code",
   "execution_count": 146,
   "id": "3aa715d2",
   "metadata": {},
   "outputs": [
    {
     "data": {
      "text/html": [
       "<div>\n",
       "<style scoped>\n",
       "    .dataframe tbody tr th:only-of-type {\n",
       "        vertical-align: middle;\n",
       "    }\n",
       "\n",
       "    .dataframe tbody tr th {\n",
       "        vertical-align: top;\n",
       "    }\n",
       "\n",
       "    .dataframe thead th {\n",
       "        text-align: right;\n",
       "    }\n",
       "</style>\n",
       "<table border=\"1\" class=\"dataframe\">\n",
       "  <thead>\n",
       "    <tr style=\"text-align: right;\">\n",
       "      <th></th>\n",
       "      <th>TransactionID</th>\n",
       "      <th>ClientID</th>\n",
       "      <th>BirthYear</th>\n",
       "      <th>Amount</th>\n",
       "      <th>Profession</th>\n",
       "      <th>Department</th>\n",
       "      <th>Risk</th>\n",
       "    </tr>\n",
       "  </thead>\n",
       "  <tbody>\n",
       "    <tr>\n",
       "      <th>0</th>\n",
       "      <td>4</td>\n",
       "      <td>34985</td>\n",
       "      <td>1923</td>\n",
       "      <td>5670</td>\n",
       "      <td>manager</td>\n",
       "      <td>78</td>\n",
       "      <td>low</td>\n",
       "    </tr>\n",
       "    <tr>\n",
       "      <th>1</th>\n",
       "      <td>16</td>\n",
       "      <td>34997</td>\n",
       "      <td>1923</td>\n",
       "      <td>2399090</td>\n",
       "      <td>developer</td>\n",
       "      <td>78</td>\n",
       "      <td>high</td>\n",
       "    </tr>\n",
       "    <tr>\n",
       "      <th>2</th>\n",
       "      <td>25</td>\n",
       "      <td>35006</td>\n",
       "      <td>1923</td>\n",
       "      <td>33050</td>\n",
       "      <td>hr</td>\n",
       "      <td>78</td>\n",
       "      <td>high</td>\n",
       "    </tr>\n",
       "    <tr>\n",
       "      <th>3</th>\n",
       "      <td>12</td>\n",
       "      <td>34993</td>\n",
       "      <td>1939</td>\n",
       "      <td>23430</td>\n",
       "      <td>professor</td>\n",
       "      <td>78</td>\n",
       "      <td>low</td>\n",
       "    </tr>\n",
       "    <tr>\n",
       "      <th>4</th>\n",
       "      <td>21</td>\n",
       "      <td>35002</td>\n",
       "      <td>1939</td>\n",
       "      <td>16770</td>\n",
       "      <td>manager</td>\n",
       "      <td>78</td>\n",
       "      <td>low</td>\n",
       "    </tr>\n",
       "    <tr>\n",
       "      <th>5</th>\n",
       "      <td>11</td>\n",
       "      <td>34992</td>\n",
       "      <td>1944</td>\n",
       "      <td>21210</td>\n",
       "      <td>researcher</td>\n",
       "      <td>78</td>\n",
       "      <td>medium</td>\n",
       "    </tr>\n",
       "    <tr>\n",
       "      <th>6</th>\n",
       "      <td>20</td>\n",
       "      <td>35001</td>\n",
       "      <td>1944</td>\n",
       "      <td>14550</td>\n",
       "      <td>student</td>\n",
       "      <td>78</td>\n",
       "      <td>medium</td>\n",
       "    </tr>\n",
       "    <tr>\n",
       "      <th>7</th>\n",
       "      <td>3</td>\n",
       "      <td>34984</td>\n",
       "      <td>1945</td>\n",
       "      <td>3450</td>\n",
       "      <td>student</td>\n",
       "      <td>78</td>\n",
       "      <td>medium</td>\n",
       "    </tr>\n",
       "    <tr>\n",
       "      <th>8</th>\n",
       "      <td>19</td>\n",
       "      <td>35000</td>\n",
       "      <td>1949</td>\n",
       "      <td>12330</td>\n",
       "      <td>barmen</td>\n",
       "      <td>78</td>\n",
       "      <td>high</td>\n",
       "    </tr>\n",
       "    <tr>\n",
       "      <th>9</th>\n",
       "      <td>9</td>\n",
       "      <td>34990</td>\n",
       "      <td>1953</td>\n",
       "      <td>16770</td>\n",
       "      <td>manager</td>\n",
       "      <td>78</td>\n",
       "      <td>medium</td>\n",
       "    </tr>\n",
       "    <tr>\n",
       "      <th>10</th>\n",
       "      <td>8</td>\n",
       "      <td>34989</td>\n",
       "      <td>1958</td>\n",
       "      <td>14550</td>\n",
       "      <td>hr</td>\n",
       "      <td>78</td>\n",
       "      <td>high</td>\n",
       "    </tr>\n",
       "    <tr>\n",
       "      <th>11</th>\n",
       "      <td>6</td>\n",
       "      <td>34987</td>\n",
       "      <td>1967</td>\n",
       "      <td>10110</td>\n",
       "      <td>manager</td>\n",
       "      <td>78</td>\n",
       "      <td>medium</td>\n",
       "    </tr>\n",
       "    <tr>\n",
       "      <th>12</th>\n",
       "      <td>15</td>\n",
       "      <td>34987</td>\n",
       "      <td>1967</td>\n",
       "      <td>30090</td>\n",
       "      <td>manager</td>\n",
       "      <td>78</td>\n",
       "      <td>low</td>\n",
       "    </tr>\n",
       "    <tr>\n",
       "      <th>13</th>\n",
       "      <td>24</td>\n",
       "      <td>34989</td>\n",
       "      <td>1967</td>\n",
       "      <td>27870</td>\n",
       "      <td>hr</td>\n",
       "      <td>78</td>\n",
       "      <td>medium</td>\n",
       "    </tr>\n",
       "    <tr>\n",
       "      <th>14</th>\n",
       "      <td>27</td>\n",
       "      <td>35008</td>\n",
       "      <td>1967</td>\n",
       "      <td>41930</td>\n",
       "      <td>bdm</td>\n",
       "      <td>78</td>\n",
       "      <td>low</td>\n",
       "    </tr>\n",
       "    <tr>\n",
       "      <th>15</th>\n",
       "      <td>28</td>\n",
       "      <td>35008</td>\n",
       "      <td>1967</td>\n",
       "      <td>46370</td>\n",
       "      <td>unknown</td>\n",
       "      <td>78</td>\n",
       "      <td>high</td>\n",
       "    </tr>\n",
       "    <tr>\n",
       "      <th>16</th>\n",
       "      <td>29</td>\n",
       "      <td>35008</td>\n",
       "      <td>1976</td>\n",
       "      <td>50810</td>\n",
       "      <td>unknown</td>\n",
       "      <td>78</td>\n",
       "      <td>medium</td>\n",
       "    </tr>\n",
       "    <tr>\n",
       "      <th>17</th>\n",
       "      <td>5</td>\n",
       "      <td>34986</td>\n",
       "      <td>1978</td>\n",
       "      <td>7890</td>\n",
       "      <td>hr</td>\n",
       "      <td>78</td>\n",
       "      <td>high</td>\n",
       "    </tr>\n",
       "    <tr>\n",
       "      <th>18</th>\n",
       "      <td>17</td>\n",
       "      <td>34998</td>\n",
       "      <td>1978</td>\n",
       "      <td>7890</td>\n",
       "      <td>student</td>\n",
       "      <td>78</td>\n",
       "      <td>medium</td>\n",
       "    </tr>\n",
       "    <tr>\n",
       "      <th>19</th>\n",
       "      <td>10</td>\n",
       "      <td>34991</td>\n",
       "      <td>1988</td>\n",
       "      <td>18990</td>\n",
       "      <td>bdm</td>\n",
       "      <td>78</td>\n",
       "      <td>low</td>\n",
       "    </tr>\n",
       "    <tr>\n",
       "      <th>20</th>\n",
       "      <td>30</td>\n",
       "      <td>34991</td>\n",
       "      <td>1988</td>\n",
       "      <td>55250</td>\n",
       "      <td>bdm</td>\n",
       "      <td>78</td>\n",
       "      <td>high</td>\n",
       "    </tr>\n",
       "    <tr>\n",
       "      <th>21</th>\n",
       "      <td>18</td>\n",
       "      <td>34999</td>\n",
       "      <td>1988</td>\n",
       "      <td>10110</td>\n",
       "      <td>student</td>\n",
       "      <td>78</td>\n",
       "      <td>low</td>\n",
       "    </tr>\n",
       "    <tr>\n",
       "      <th>22</th>\n",
       "      <td>23</td>\n",
       "      <td>34988</td>\n",
       "      <td>1999</td>\n",
       "      <td>25650</td>\n",
       "      <td>manager</td>\n",
       "      <td>78</td>\n",
       "      <td>low</td>\n",
       "    </tr>\n",
       "    <tr>\n",
       "      <th>23</th>\n",
       "      <td>14</td>\n",
       "      <td>34995</td>\n",
       "      <td>1999</td>\n",
       "      <td>27870</td>\n",
       "      <td>hairdresser</td>\n",
       "      <td>78</td>\n",
       "      <td>low</td>\n",
       "    </tr>\n",
       "    <tr>\n",
       "      <th>24</th>\n",
       "      <td>26</td>\n",
       "      <td>35007</td>\n",
       "      <td>1999</td>\n",
       "      <td>37490</td>\n",
       "      <td>student</td>\n",
       "      <td>78</td>\n",
       "      <td>medium</td>\n",
       "    </tr>\n",
       "    <tr>\n",
       "      <th>25</th>\n",
       "      <td>1</td>\n",
       "      <td>34982</td>\n",
       "      <td>2013</td>\n",
       "      <td>12900</td>\n",
       "      <td>student</td>\n",
       "      <td>78</td>\n",
       "      <td>low</td>\n",
       "    </tr>\n",
       "  </tbody>\n",
       "</table>\n",
       "</div>"
      ],
      "text/plain": [
       "    TransactionID  ClientID  BirthYear   Amount   Profession  Department  \\\n",
       "0               4     34985       1923     5670      manager          78   \n",
       "1              16     34997       1923  2399090    developer          78   \n",
       "2              25     35006       1923    33050           hr          78   \n",
       "3              12     34993       1939    23430    professor          78   \n",
       "4              21     35002       1939    16770      manager          78   \n",
       "5              11     34992       1944    21210   researcher          78   \n",
       "6              20     35001       1944    14550      student          78   \n",
       "7               3     34984       1945     3450      student          78   \n",
       "8              19     35000       1949    12330       barmen          78   \n",
       "9               9     34990       1953    16770      manager          78   \n",
       "10              8     34989       1958    14550           hr          78   \n",
       "11              6     34987       1967    10110      manager          78   \n",
       "12             15     34987       1967    30090      manager          78   \n",
       "13             24     34989       1967    27870           hr          78   \n",
       "14             27     35008       1967    41930          bdm          78   \n",
       "15             28     35008       1967    46370      unknown          78   \n",
       "16             29     35008       1976    50810      unknown          78   \n",
       "17              5     34986       1978     7890           hr          78   \n",
       "18             17     34998       1978     7890      student          78   \n",
       "19             10     34991       1988    18990          bdm          78   \n",
       "20             30     34991       1988    55250          bdm          78   \n",
       "21             18     34999       1988    10110      student          78   \n",
       "22             23     34988       1999    25650      manager          78   \n",
       "23             14     34995       1999    27870  hairdresser          78   \n",
       "24             26     35007       1999    37490      student          78   \n",
       "25              1     34982       2013    12900      student          78   \n",
       "\n",
       "      Risk  \n",
       "0      low  \n",
       "1     high  \n",
       "2     high  \n",
       "3      low  \n",
       "4      low  \n",
       "5   medium  \n",
       "6   medium  \n",
       "7   medium  \n",
       "8     high  \n",
       "9   medium  \n",
       "10    high  \n",
       "11  medium  \n",
       "12     low  \n",
       "13  medium  \n",
       "14     low  \n",
       "15    high  \n",
       "16  medium  \n",
       "17    high  \n",
       "18  medium  \n",
       "19     low  \n",
       "20    high  \n",
       "21     low  \n",
       "22     low  \n",
       "23     low  \n",
       "24  medium  \n",
       "25     low  "
      ]
     },
     "execution_count": 146,
     "metadata": {},
     "output_type": "execute_result"
    }
   ],
   "source": [
    "df_filtered"
   ]
  },
  {
   "cell_type": "code",
   "execution_count": 155,
   "id": "5ea0dc19",
   "metadata": {},
   "outputs": [
    {
     "data": {
      "text/html": [
       "<div>\n",
       "<style scoped>\n",
       "    .dataframe tbody tr th:only-of-type {\n",
       "        vertical-align: middle;\n",
       "    }\n",
       "\n",
       "    .dataframe tbody tr th {\n",
       "        vertical-align: top;\n",
       "    }\n",
       "\n",
       "    .dataframe thead th {\n",
       "        text-align: right;\n",
       "    }\n",
       "</style>\n",
       "<table border=\"1\" class=\"dataframe\">\n",
       "  <thead>\n",
       "    <tr style=\"text-align: right;\">\n",
       "      <th></th>\n",
       "      <th>TransactionID</th>\n",
       "    </tr>\n",
       "    <tr>\n",
       "      <th>ClientID</th>\n",
       "      <th></th>\n",
       "    </tr>\n",
       "  </thead>\n",
       "  <tbody>\n",
       "    <tr>\n",
       "      <th>35008</th>\n",
       "      <td>3</td>\n",
       "    </tr>\n",
       "    <tr>\n",
       "      <th>34987</th>\n",
       "      <td>2</td>\n",
       "    </tr>\n",
       "    <tr>\n",
       "      <th>34989</th>\n",
       "      <td>2</td>\n",
       "    </tr>\n",
       "    <tr>\n",
       "      <th>34991</th>\n",
       "      <td>2</td>\n",
       "    </tr>\n",
       "    <tr>\n",
       "      <th>34997</th>\n",
       "      <td>1</td>\n",
       "    </tr>\n",
       "  </tbody>\n",
       "</table>\n",
       "</div>"
      ],
      "text/plain": [
       "          TransactionID\n",
       "ClientID               \n",
       "35008                 3\n",
       "34987                 2\n",
       "34989                 2\n",
       "34991                 2\n",
       "34997                 1"
      ]
     },
     "execution_count": 155,
     "metadata": {},
     "output_type": "execute_result"
    }
   ],
   "source": [
    "# df.groupby('A').agg({'B': ['min', 'max'], 'C': 'sum'})\n",
    "\n",
    "pivot = df_filtered.groupby('ClientID').agg({'TransactionID':'count'}).sort_values(by='TransactionID',ascending=False)\n",
    "pivot.head()"
   ]
  },
  {
   "cell_type": "code",
   "execution_count": 158,
   "id": "e53f6406",
   "metadata": {},
   "outputs": [
    {
     "data": {
      "text/plain": [
       "Int64Index([35008, 34987, 34989, 34991], dtype='int64', name='ClientID')"
      ]
     },
     "execution_count": 158,
     "metadata": {},
     "output_type": "execute_result"
    }
   ],
   "source": [
    "sus_clients = pivot.head(4).index\n",
    "sus_clients"
   ]
  },
  {
   "cell_type": "code",
   "execution_count": 160,
   "id": "1267a0e0",
   "metadata": {},
   "outputs": [
    {
     "data": {
      "text/html": [
       "<div>\n",
       "<style scoped>\n",
       "    .dataframe tbody tr th:only-of-type {\n",
       "        vertical-align: middle;\n",
       "    }\n",
       "\n",
       "    .dataframe tbody tr th {\n",
       "        vertical-align: top;\n",
       "    }\n",
       "\n",
       "    .dataframe thead th {\n",
       "        text-align: right;\n",
       "    }\n",
       "</style>\n",
       "<table border=\"1\" class=\"dataframe\">\n",
       "  <thead>\n",
       "    <tr style=\"text-align: right;\">\n",
       "      <th></th>\n",
       "      <th>TransactionID</th>\n",
       "      <th>ClientID</th>\n",
       "      <th>BirthYear</th>\n",
       "      <th>Amount</th>\n",
       "      <th>Profession</th>\n",
       "      <th>Department</th>\n",
       "      <th>Risk</th>\n",
       "    </tr>\n",
       "  </thead>\n",
       "  <tbody>\n",
       "    <tr>\n",
       "      <th>14</th>\n",
       "      <td>27</td>\n",
       "      <td>35008</td>\n",
       "      <td>1967</td>\n",
       "      <td>41930</td>\n",
       "      <td>bdm</td>\n",
       "      <td>78</td>\n",
       "      <td>low</td>\n",
       "    </tr>\n",
       "    <tr>\n",
       "      <th>15</th>\n",
       "      <td>28</td>\n",
       "      <td>35008</td>\n",
       "      <td>1967</td>\n",
       "      <td>46370</td>\n",
       "      <td>unknown</td>\n",
       "      <td>78</td>\n",
       "      <td>high</td>\n",
       "    </tr>\n",
       "    <tr>\n",
       "      <th>16</th>\n",
       "      <td>29</td>\n",
       "      <td>35008</td>\n",
       "      <td>1976</td>\n",
       "      <td>50810</td>\n",
       "      <td>unknown</td>\n",
       "      <td>78</td>\n",
       "      <td>medium</td>\n",
       "    </tr>\n",
       "    <tr>\n",
       "      <th>19</th>\n",
       "      <td>10</td>\n",
       "      <td>34991</td>\n",
       "      <td>1988</td>\n",
       "      <td>18990</td>\n",
       "      <td>bdm</td>\n",
       "      <td>78</td>\n",
       "      <td>low</td>\n",
       "    </tr>\n",
       "    <tr>\n",
       "      <th>20</th>\n",
       "      <td>30</td>\n",
       "      <td>34991</td>\n",
       "      <td>1988</td>\n",
       "      <td>55250</td>\n",
       "      <td>bdm</td>\n",
       "      <td>78</td>\n",
       "      <td>high</td>\n",
       "    </tr>\n",
       "    <tr>\n",
       "      <th>10</th>\n",
       "      <td>8</td>\n",
       "      <td>34989</td>\n",
       "      <td>1958</td>\n",
       "      <td>14550</td>\n",
       "      <td>hr</td>\n",
       "      <td>78</td>\n",
       "      <td>high</td>\n",
       "    </tr>\n",
       "    <tr>\n",
       "      <th>13</th>\n",
       "      <td>24</td>\n",
       "      <td>34989</td>\n",
       "      <td>1967</td>\n",
       "      <td>27870</td>\n",
       "      <td>hr</td>\n",
       "      <td>78</td>\n",
       "      <td>medium</td>\n",
       "    </tr>\n",
       "    <tr>\n",
       "      <th>11</th>\n",
       "      <td>6</td>\n",
       "      <td>34987</td>\n",
       "      <td>1967</td>\n",
       "      <td>10110</td>\n",
       "      <td>manager</td>\n",
       "      <td>78</td>\n",
       "      <td>medium</td>\n",
       "    </tr>\n",
       "    <tr>\n",
       "      <th>12</th>\n",
       "      <td>15</td>\n",
       "      <td>34987</td>\n",
       "      <td>1967</td>\n",
       "      <td>30090</td>\n",
       "      <td>manager</td>\n",
       "      <td>78</td>\n",
       "      <td>low</td>\n",
       "    </tr>\n",
       "  </tbody>\n",
       "</table>\n",
       "</div>"
      ],
      "text/plain": [
       "    TransactionID  ClientID  BirthYear  Amount Profession  Department    Risk\n",
       "14             27     35008       1967   41930        bdm          78     low\n",
       "15             28     35008       1967   46370    unknown          78    high\n",
       "16             29     35008       1976   50810    unknown          78  medium\n",
       "19             10     34991       1988   18990        bdm          78     low\n",
       "20             30     34991       1988   55250        bdm          78    high\n",
       "10              8     34989       1958   14550         hr          78    high\n",
       "13             24     34989       1967   27870         hr          78  medium\n",
       "11              6     34987       1967   10110    manager          78  medium\n",
       "12             15     34987       1967   30090    manager          78     low"
      ]
     },
     "execution_count": 160,
     "metadata": {},
     "output_type": "execute_result"
    }
   ],
   "source": [
    "df_filtered.loc[df['ClientID'].isin(sus_clients)].sort_values(by=\"ClientID\",ascending=False)"
   ]
  },
  {
   "cell_type": "code",
   "execution_count": null,
   "id": "d86c17b6",
   "metadata": {},
   "outputs": [],
   "source": []
  }
 ],
 "metadata": {
  "kernelspec": {
   "display_name": "Python 3 (ipykernel)",
   "language": "python",
   "name": "python3"
  },
  "language_info": {
   "codemirror_mode": {
    "name": "ipython",
    "version": 3
   },
   "file_extension": ".py",
   "mimetype": "text/x-python",
   "name": "python",
   "nbconvert_exporter": "python",
   "pygments_lexer": "ipython3",
   "version": "3.9.13"
  }
 },
 "nbformat": 4,
 "nbformat_minor": 5
}
